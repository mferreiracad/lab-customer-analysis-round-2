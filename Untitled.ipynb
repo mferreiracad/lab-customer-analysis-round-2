{
 "cells": [
  {
   "cell_type": "code",
   "execution_count": 2,
   "id": "abac2168",
   "metadata": {},
   "outputs": [],
   "source": [
    "import pandas as pd\n",
    "import numpy as np\n",
    "\n",
    "heights = [181, 180, 172, 160, 165, 170, 175, 173, 168, 192, 180, 172, 202]\n",
    "shoe_size = [46, 44, 42, 37, 39, 42, 40, 39, 40, 44, 42, 40, 46]"
   ]
  },
  {
   "cell_type": "code",
   "execution_count": 3,
   "id": "345640f9",
   "metadata": {},
   "outputs": [
    {
     "data": {
      "text/plain": [
       "176.15384615384616"
      ]
     },
     "execution_count": 3,
     "metadata": {},
     "output_type": "execute_result"
    }
   ],
   "source": [
    "mean_height = sum(heights)/len(heights)\n",
    "mean_height"
   ]
  },
  {
   "cell_type": "code",
   "execution_count": 5,
   "id": "a04c0a43",
   "metadata": {},
   "outputs": [
    {
     "data": {
      "text/plain": [
       "41.61538461538461"
      ]
     },
     "execution_count": 5,
     "metadata": {},
     "output_type": "execute_result"
    }
   ],
   "source": [
    "mean_shoesize = sum(shoe_size)/len(shoe_size)\n",
    "mean_shoesize"
   ]
  },
  {
   "cell_type": "code",
   "execution_count": null,
   "id": "2d7cd272",
   "metadata": {},
   "outputs": [],
   "source": []
  }
 ],
 "metadata": {
  "kernelspec": {
   "display_name": "Python 3 (ipykernel)",
   "language": "python",
   "name": "python3"
  },
  "language_info": {
   "codemirror_mode": {
    "name": "ipython",
    "version": 3
   },
   "file_extension": ".py",
   "mimetype": "text/x-python",
   "name": "python",
   "nbconvert_exporter": "python",
   "pygments_lexer": "ipython3",
   "version": "3.9.12"
  }
 },
 "nbformat": 4,
 "nbformat_minor": 5
}
